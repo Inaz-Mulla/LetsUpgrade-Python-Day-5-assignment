{
 "cells": [
  {
   "cell_type": "code",
   "execution_count": 6,
   "metadata": {},
   "outputs": [
    {
     "name": "stdout",
     "output_type": "stream",
     "text": [
      "Original list - \n",
      "['this is inaz', 'i am from maharashtra']\n",
      "Capitalized list is : \n",
      "['This Is Inaz', 'I Am From Maharashtra']\n"
     ]
    }
   ],
   "source": [
    "lst = [\"this is inaz\",\"i am from maharashtra\"]\n",
    "print(\"Original list - \")\n",
    "\n",
    "print(lst)\n",
    "\n",
    "result = list(map(lambda words: \" \".join([word.capitalize() for word in words.split( )]) , lst))\n",
    "\n",
    "print (\"Capitalized list is : \")\n",
    "\n",
    "print(result)"
   ]
  },
  {
   "cell_type": "code",
   "execution_count": null,
   "metadata": {},
   "outputs": [],
   "source": []
  },
  {
   "cell_type": "code",
   "execution_count": null,
   "metadata": {},
   "outputs": [],
   "source": []
  },
  {
   "cell_type": "code",
   "execution_count": null,
   "metadata": {},
   "outputs": [],
   "source": []
  }
 ],
 "metadata": {
  "kernelspec": {
   "display_name": "Python 3",
   "language": "python",
   "name": "python3"
  },
  "language_info": {
   "codemirror_mode": {
    "name": "ipython",
    "version": 3
   },
   "file_extension": ".py",
   "mimetype": "text/x-python",
   "name": "python",
   "nbconvert_exporter": "python",
   "pygments_lexer": "ipython3",
   "version": "3.8.3"
  }
 },
 "nbformat": 4,
 "nbformat_minor": 4
}
