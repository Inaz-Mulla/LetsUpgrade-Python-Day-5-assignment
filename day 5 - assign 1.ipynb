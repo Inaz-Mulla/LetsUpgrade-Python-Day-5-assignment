{
 "cells": [
  {
   "cell_type": "code",
   "execution_count": null,
   "metadata": {},
   "outputs": [],
   "source": [
    "lst = [1, 1, 5]\n",
    "\n",
    "lst1 = []\n",
    "\n",
    "l= int(input(\"Enter the length of the list - \"))\n",
    "j = 0;\n",
    "\n",
    "for i in range (0, 1):\n",
    "    lst1.append(int(input(\"Enter the number for the list - \")))\n",
    "print()\n",
    "print(\"List is - \", lst1)\n",
    "\n",
    "for i in range(0, 1):\n",
    "    if( lst1[i] == lst[j]):\n",
    "        j += 1\n",
    "        i += 1\n",
    "    else:\n",
    "        i += 1\n",
    "if (j == 3):\n",
    "    print(\"Its a match\")\n",
    "else:\n",
    "    print(\"Its gone\")\n",
    "    "
   ]
  },
  {
   "cell_type": "code",
   "execution_count": null,
   "metadata": {},
   "outputs": [],
   "source": []
  },
  {
   "cell_type": "code",
   "execution_count": 32,
   "metadata": {},
   "outputs": [],
   "source": []
  },
  {
   "cell_type": "code",
   "execution_count": null,
   "metadata": {},
   "outputs": [],
   "source": [
    "\n",
    "    "
   ]
  },
  {
   "cell_type": "code",
   "execution_count": null,
   "metadata": {},
   "outputs": [],
   "source": []
  },
  {
   "cell_type": "code",
   "execution_count": null,
   "metadata": {},
   "outputs": [],
   "source": []
  },
  {
   "cell_type": "code",
   "execution_count": null,
   "metadata": {},
   "outputs": [],
   "source": []
  }
 ],
 "metadata": {
  "kernelspec": {
   "display_name": "Python 3",
   "language": "python",
   "name": "python3"
  },
  "language_info": {
   "codemirror_mode": {
    "name": "ipython",
    "version": 3
   },
   "file_extension": ".py",
   "mimetype": "text/x-python",
   "name": "python",
   "nbconvert_exporter": "python",
   "pygments_lexer": "ipython3",
   "version": "3.8.3"
  }
 },
 "nbformat": 4,
 "nbformat_minor": 4
}
